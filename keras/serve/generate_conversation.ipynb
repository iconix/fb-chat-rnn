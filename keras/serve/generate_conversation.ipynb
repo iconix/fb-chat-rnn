{
 "cells": [
  {
   "cell_type": "code",
   "execution_count": 1,
   "metadata": {},
   "outputs": [],
   "source": [
    "import os\n",
    "\n",
    "BASE_DIR = os.getcwd()\n",
    "DATA_DIR = os.path.join(BASE_DIR, '..', 'train/' 'data/')\n",
    "model_path = os.path.join(DATA_DIR, 'models/')"
   ]
  },
  {
   "cell_type": "markdown",
   "metadata": {},
   "source": [
    "Prereqs:\n",
    "- `conda install numpy scipy mkl-service libpython theano`\n",
    "- `pip install keras= 1.0.7`\n",
    "    - Why an older version of Keras? To avoid dwindling Theano support in Keras (now that Theano is deprecated). Issues with scipy on Windows? Try https://stackoverflow.com/a/39577864\n",
    "- `conda install flask gevent requests pillow h5py`\n",
    "- Switch to Theano as Keras backend: https://keras.io/backend/"
   ]
  },
  {
   "cell_type": "code",
   "execution_count": 2,
   "metadata": {},
   "outputs": [
    {
     "name": "stderr",
     "output_type": "stream",
     "text": [
      "Using Theano backend.\n",
      "WARNING (theano.tensor.blas): Using NumPy C-API based implementation for BLAS functions.\n"
     ]
    }
   ],
   "source": [
    "from keras.layers import Embedding, LSTM, TimeDistributed\n",
    "from keras.layers.core import Dense, Dropout\n",
    "from keras.models import Sequential\n",
    "from keras.optimizers import Adam\n",
    "from keras.layers.normalization import BatchNormalization"
   ]
  },
  {
   "cell_type": "code",
   "execution_count": 3,
   "metadata": {
    "collapsed": true
   },
   "outputs": [],
   "source": [
    "# TODO: not as a const\n",
    "chars = sorted(list('\\x00\\n\\r !\"&\\'(),-./123456789:;<>?ABCDEFGHIJKLMNOPQRSTUVWXYZ[]`abcdefghijklmnopqrstuvwxyz}'))\n",
    "char_indices = dict((c, i) for i, c in enumerate(chars))\n",
    "vocab_size = len(chars)\n",
    "n_fac = 42 # TODO: configurable?\n",
    "n_hidden = 256 # TODO: configurable?\n",
    "nc = 40"
   ]
  },
  {
   "cell_type": "code",
   "execution_count": 4,
   "metadata": {
    "collapsed": true
   },
   "outputs": [],
   "source": [
    "def make_model(batch_size_override=None):\n",
    "    if batch_size_override is None:\n",
    "        batch_size_override = bs\n",
    "    model = Sequential([\n",
    "        Embedding(vocab_size, n_fac, input_length=nc, batch_input_shape=(batch_size_override,nc)),\n",
    "        BatchNormalization(),\n",
    "        LSTM(n_hidden, input_dim=n_fac, return_sequences=True, stateful=True, dropout_U=0.2, dropout_W=0.2,\n",
    "             consume_less='gpu'),\n",
    "        LSTM(n_hidden, input_dim=n_fac, return_sequences=True, stateful=True, dropout_U=0.2, dropout_W=0.2,\n",
    "             consume_less='gpu'),\n",
    "        TimeDistributed(Dense(n_hidden, activation='relu')),\n",
    "        Dropout(0.2),\n",
    "        TimeDistributed(Dense(vocab_size, activation='softmax'))\n",
    "    ])\n",
    "    model.compile(loss=\"sparse_categorical_crossentropy\", optimizer=Adam())\n",
    "    return model"
   ]
  },
  {
   "cell_type": "code",
   "execution_count": 5,
   "metadata": {},
   "outputs": [],
   "source": [
    "model = make_model(batch_size_override=1)"
   ]
  },
  {
   "cell_type": "code",
   "execution_count": 6,
   "metadata": {},
   "outputs": [],
   "source": [
    "saved_path = os.path.join(model_path, 'shakespeare_2.h5')\n",
    "model.load_weights(saved_path)"
   ]
  },
  {
   "cell_type": "code",
   "execution_count": 7,
   "metadata": {
    "collapsed": true
   },
   "outputs": [],
   "source": [
    "import numpy as np\n",
    "import re"
   ]
  },
  {
   "cell_type": "code",
   "execution_count": 8,
   "metadata": {
    "collapsed": true
   },
   "outputs": [],
   "source": [
    "def get_valid_line(line):\n",
    "    regex = re.compile(r\"<([^>/]+)>([^<]+)<\\/([^>]+)>\")\n",
    "    if regex.match(line) != None:\n",
    "        valid_line = re.sub(regex, r\"<\\1>\\2</\\1>\", line)\n",
    "        return valid_line"
   ]
  },
  {
   "cell_type": "code",
   "execution_count": 9,
   "metadata": {
    "collapsed": true
   },
   "outputs": [],
   "source": [
    "def fix_newlines(text):\n",
    "    return \"\\n\".join(text.splitlines())"
   ]
  },
  {
   "cell_type": "code",
   "execution_count": 10,
   "metadata": {},
   "outputs": [],
   "source": [
    "def generate_conversation(m, seed, num_lines=5):\n",
    "    binary_tags = ['Brock', 'Ash']; # TODO: configurable\n",
    "    curr_tag_idx = 0;\n",
    "    \n",
    "    i = 0    c \n",
    "    output = ['']*num_lines\n",
    "\n",
    "    output[i] = seed\n",
    "    valid_line = get_valid_line(output[i])\n",
    "    if valid_line != None:\n",
    "        output[i] = valid_line\n",
    "        i += 1\n",
    "        if (i < num_lines):\n",
    "            curr_tag_idx = abs(curr_tag_idx - 1)\n",
    "            output[i] = f'<{binary_tags[curr_tag_idx]}>'\n",
    "    \n",
    "    while i < num_lines:\n",
    "        x = np.array([char_indices[c] for c in ''.join(output)[-nc:]])[np.newaxis,:]\n",
    "        preds = m.predict(x, verbose=0, batch_size=1)[0][-1]\n",
    "        preds = preds / np.sum(preds)\n",
    "        new_char = np.random.choice(chars, p=preds)\n",
    "        output[i] += new_char\n",
    "        valid_line = get_valid_line(output[i])\n",
    "        if valid_line != None:\n",
    "            output[i] = valid_line\n",
    "            i += 1\n",
    "            if (i < num_lines):\n",
    "                curr_tag_idx = abs(curr_tag_idx - 1)\n",
    "                output[i] = f'<{binary_tags[curr_tag_idx]}>'\n",
    "    print(fix_newlines('\\n'.join(output)))"
   ]
  },
  {
   "cell_type": "code",
   "execution_count": 11,
   "metadata": {},
   "outputs": [
    {
     "name": "stdout",
     "output_type": "stream",
     "text": [
      "<Brock>Courteous lord, one word.</Brock>\n",
      "<Ash>Ah, my bring us.\n",
      "</Ash>\n",
      "<Brock>Sir, you nothing k Dropposh>As your perficients, thou art like a friend,\n",
      "    For threat me a kind lies one you less.\n",
      "</Brock>\n",
      "<Ash>Fie, fair them, and your desert may do pity beg?\n",
      "    I were a borrow for rich passion to hard to thee!\n",
      "    I would friar.\n",
      "</Ash>\n",
      "<Brock>From th' bent, and so, or perform'd,\n",
      "    But I am so iner of water, being weaked, sir.   For that they will our dismission; but when a rather\n",
      "    be book'd him: the love. Farewell, it is a gossess, yet from brows: wherefore affect\n",
      "    By no more in my blood\n",
      "    Your another humour with them, welcome, for God!\n",
      "</Brock>\n",
      "<Ash>But I am wagger one as lost to me, by the youth' beg will be banish'd\n",
      "    Look to show so hiever.\n",
      "    The digs seems him to he on super? Thou'dst\n",
      "    have tell you whom, from which you, should have madness himself\n",
      "    Was gallows his beard which to still to mine untimes,\n",
      "    Soon and too much apon him? Thy sconclusion wrongs, we tak'd her words\n",
      "    of your Grace; I have been with Sautiness everyt that would feed our point!\n",
      "    And, would he not goan? But, to my crown, and beseech you all my friend.\n",
      "</Ash>\n",
      "<Brock>Every bear of the sas, and what Proteus his daughter, you,\n",
      "  away so?       If I may answer this pleasure to my honour,\n",
      "    But hast as quite of open each a mustainer to sooth\n",
      "    Deppeking th' physician hair, hostess. We'd lodge that put on the picture that do by thinks not a bloody four love spaid so come in a husband?\n",
      "    Who shall get him to make harre a   [Tis the most life of thy father, like a\n",
      "    cloud,\n",
      "    I have sent more and the like, my lord more hence of disakings; but now I had return'd!\n",
      "</Brock>\n",
      "<Ash>E'en holds you, blaze me with him. If the rivel in such wrong because I am ear and bestless her bradvice, and we'll tell you on this\n",
      "    says, he the broil-fitch. I fly with thee;\n",
      "    Whom your lifeed nurse. Go now.\n",
      "</Ash>\n",
      "<Brock>Not give her,\n",
      "    I never speak her of country the esteemine. Ofld;\n",
      "    It is the victory; you are a death.\n",
      "</Brock>\n",
      "<Ash>Please your boys, friend, I must\n",
      "    Away\n",
      "    As pursue his valour in my habit the tongue to beauty eakest woman undergoth,\n",
      "    And lay to Athenian word- Kate be gone?\n",
      "  Lady. I come, good night to a pont, good Sir Toby! there needs to our soldier. What wouldst another bring your letters!\n",
      "    And I saw himself who thou'rt a bold same and\n",
      "    curious hour than you are soon, and blood, your servants, but you are rised; you have lostly affair; and the fair, be gone except,\n",
      "    Says with the best, I'll sing no more, in whom I live too;\n",
      "    thinking, is't, royalty.\n",
      "    Then the world, a board of the rirge shall more servants\n",
      "    Thy County of These shoulders up us\n",
      "    your villain soft of war?\n",
      "</Ash>\n"
     ]
    }
   ],
   "source": [
    "generate_conversation(model, '<Brock>Courteous lord, one word.</Brock>', 10)"
   ]
  }
 ],
 "metadata": {
  "kernelspec": {
   "display_name": "Python 3",
   "language": "python",
   "name": "python3"
  },
  "language_info": {
   "codemirror_mode": {
    "name": "ipython",
    "version": 3
   },
   "file_extension": ".py",
   "mimetype": "text/x-python",
   "name": "python",
   "nbconvert_exporter": "python",
   "pygments_lexer": "ipython3",
   "version": "3.6.2"
  }
 },
 "nbformat": 4,
 "nbformat_minor": 2
}
